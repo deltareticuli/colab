{
  "cells": [
    {
      "cell_type": "markdown",
      "metadata": {
        "id": "view-in-github",
        "colab_type": "text"
      },
      "source": [
        "<a href=\"https://colab.research.google.com/github/deltareticuli/colab/blob/main/hw2_petrov.ipynb\" target=\"_parent\"><img src=\"https://colab.research.google.com/assets/colab-badge.svg\" alt=\"Open In Colab\"/></a>"
      ]
    },
    {
      "cell_type": "markdown",
      "metadata": {
        "id": "APc-C2tHP9mJ"
      },
      "source": [
        "# Petrov Ivan\n",
        "## Variant 25"
      ]
    },
    {
      "cell_type": "code",
      "execution_count": 1,
      "metadata": {
        "id": "enL_Nd2PP9mN"
      },
      "outputs": [],
      "source": [
        "import sympy as sp\n",
        "import numpy as np\n",
        "\n",
        "from IPython.display import display, Math"
      ]
    },
    {
      "cell_type": "markdown",
      "metadata": {
        "id": "xR_2NkGpP9mO"
      },
      "source": [
        "## Task 1"
      ]
    },
    {
      "cell_type": "markdown",
      "metadata": {
        "id": "ygxF7saTP9mO"
      },
      "source": [
        "Find the best approximation matrix $A_1$ of rank 2 of the matrix A in the norm $||\\cdot||_2$ and find $||A-A_1||_2$, where  \n",
        "$$A = \\begin{bmatrix}\n",
        "-6 & -64 & 0 & 64\\\\\n",
        "-102 & -20 & 36 & -22\\\\\n",
        "3 & 74 & -72 & 10\n",
        "\\end{bmatrix}$$"
      ]
    },
    {
      "cell_type": "markdown",
      "metadata": {
        "id": "P_6_W8VEP9mP"
      },
      "source": [
        "We need to find SVD decomposition of the matrix $A$:\n",
        "$$ A = U\\Sigma V^* $$"
      ]
    },
    {
      "cell_type": "code",
      "execution_count": 2,
      "metadata": {
        "colab": {
          "base_uri": "https://localhost:8080/",
          "height": 0
        },
        "id": "O-ht5FZZP9mP",
        "outputId": "c10483a0-f54e-4cdf-f7f6-abb0e8f1f727"
      },
      "outputs": [
        {
          "output_type": "execute_result",
          "data": {
            "text/plain": [
              "(array([[ 0.33333333, -0.66666667, -0.66666667],\n",
              "        [ 0.66666667,  0.66666667, -0.33333333],\n",
              "        [-0.66666667,  0.33333333, -0.66666667]]),\n",
              " array([[132.,   0.,   0.,   0.],\n",
              "        [  0.,  99.,   0.,   0.],\n",
              "        [  0.,   0.,  66.,   0.]]),\n",
              " array([[-5.45454545e-01, -6.36363636e-01,  5.45454545e-01,\n",
              "          2.47237633e-16],\n",
              "        [-6.36363636e-01,  5.45454545e-01,  5.15690493e-16,\n",
              "         -5.45454545e-01],\n",
              "        [ 5.45454545e-01, -8.58292749e-17,  5.45454545e-01,\n",
              "         -6.36363636e-01],\n",
              "        [ 8.45011042e-17,  5.45454545e-01,  6.36363636e-01,\n",
              "          5.45454545e-01]]))"
            ]
          },
          "metadata": {},
          "execution_count": 2
        }
      ],
      "source": [
        "A = np.array([[-6, -64, 0, 64],\n",
        "              [-102, -20, 36, -22],\n",
        "              [3, 74, -72, 10]])\n",
        "\n",
        "U, S, Vh = np.linalg.svd(A)\n",
        "\n",
        "S_matrix = np.array([[S[0], 0, 0, 0],\n",
        "                     [0, S[1], 0, 0],\n",
        "                     [0, 0, S[2], 0]])\n",
        "\n",
        "U, S_matrix, Vh"
      ]
    },
    {
      "cell_type": "markdown",
      "metadata": {
        "id": "PhnL4jhbP9mQ"
      },
      "source": [
        "Let us check that the decomposition is correct:"
      ]
    },
    {
      "cell_type": "code",
      "execution_count": 3,
      "metadata": {
        "colab": {
          "base_uri": "https://localhost:8080/",
          "height": 78
        },
        "id": "09s96BfdP9mQ",
        "outputId": "405ddcd7-dd33-4d4b-8229-b5e5b01309b2"
      },
      "outputs": [
        {
          "output_type": "execute_result",
          "data": {
            "text/latex": "$\\displaystyle \\left[\\begin{matrix}-6.0 & -64.0 & 0.0 & 64.0\\\\-102.0 & -20.0 & 36.0 & -22.0\\\\3.0 & 74.0 & -72.0 & 10.0\\end{matrix}\\right]$",
            "text/plain": [
              "Matrix([\n",
              "[  -6.0, -64.0,   0.0,  64.0],\n",
              "[-102.0, -20.0,  36.0, -22.0],\n",
              "[   3.0,  74.0, -72.0,  10.0]])"
            ]
          },
          "metadata": {},
          "execution_count": 3
        }
      ],
      "source": [
        "sp.Matrix(np.matrix.round(U @ S_matrix @ Vh))"
      ]
    },
    {
      "cell_type": "markdown",
      "metadata": {
        "id": "NgZ5xYLQP9mR"
      },
      "source": [
        "The rank of the matrix $A_1$ should be 2, so we need to construct a new matrix $\\Sigma_1$ as follows: take the first two singular values and set the third one as zero:"
      ]
    },
    {
      "cell_type": "code",
      "execution_count": 4,
      "metadata": {
        "colab": {
          "base_uri": "https://localhost:8080/",
          "height": 78
        },
        "id": "rjw3KNNqP9mS",
        "outputId": "001493ad-22a0-47ee-b128-cc99fe7e4cdc"
      },
      "outputs": [
        {
          "output_type": "execute_result",
          "data": {
            "text/latex": "$\\displaystyle \\left[\\begin{matrix}132.0 & 0.0 & 0.0 & 0.0\\\\0.0 & 99.0 & 0.0 & 0.0\\\\0.0 & 0.0 & 0.0 & 0.0\\end{matrix}\\right]$",
            "text/plain": [
              "Matrix([\n",
              "[132.0,  0.0, 0.0, 0.0],\n",
              "[  0.0, 99.0, 0.0, 0.0],\n",
              "[  0.0,  0.0, 0.0, 0.0]])"
            ]
          },
          "metadata": {},
          "execution_count": 4
        }
      ],
      "source": [
        "S_1 = np.array([[S[0], 0, 0, 0],\n",
        "                [0, S[1], 0, 0],\n",
        "                [0, 0, 0, 0]])\n",
        "sp.Matrix(S_1)"
      ]
    },
    {
      "cell_type": "markdown",
      "metadata": {
        "id": "n1RddV9WP9mS"
      },
      "source": [
        "Now, let us compute matrix $A_1$:\n",
        "$$ A_1 = U\\Sigma_1 V^* $$"
      ]
    },
    {
      "cell_type": "code",
      "execution_count": 5,
      "metadata": {
        "colab": {
          "base_uri": "https://localhost:8080/",
          "height": 78
        },
        "id": "J7j48po8P9mS",
        "outputId": "abec6670-2015-4437-f15d-26047bf2dcbd"
      },
      "outputs": [
        {
          "output_type": "execute_result",
          "data": {
            "text/latex": "$\\displaystyle \\left[\\begin{matrix}18.0 & -64.0 & 24.0 & 36.0\\\\-90.0 & -20.0 & 48.0 & -36.0\\\\27.0 & 74.0 & -48.0 & -18.0\\end{matrix}\\right]$",
            "text/plain": [
              "Matrix([\n",
              "[ 18.0, -64.0,  24.0,  36.0],\n",
              "[-90.0, -20.0,  48.0, -36.0],\n",
              "[ 27.0,  74.0, -48.0, -18.0]])"
            ]
          },
          "metadata": {},
          "execution_count": 5
        }
      ],
      "source": [
        "A_1 = U @ S_1 @ Vh\n",
        "sp.Matrix(np.matrix.round(A_1))"
      ]
    },
    {
      "cell_type": "markdown",
      "metadata": {
        "id": "ejxa8XPgP9mT"
      },
      "source": [
        "Finally, let us find $||A-A_1||_2$:"
      ]
    },
    {
      "cell_type": "code",
      "execution_count": 6,
      "metadata": {
        "colab": {
          "base_uri": "https://localhost:8080/",
          "height": 0
        },
        "id": "TUYOZPPrP9mT",
        "outputId": "93e90f44-da63-47fc-d893-0d3c7abcbbcf"
      },
      "outputs": [
        {
          "output_type": "execute_result",
          "data": {
            "text/plain": [
              "66.0"
            ]
          },
          "metadata": {},
          "execution_count": 6
        }
      ],
      "source": [
        "diff = A - np.matrix.round(A_1)\n",
        "_, S_diff, _ = np.linalg.svd(diff)\n",
        "\n",
        "result = max(S_diff)\n",
        "result"
      ]
    },
    {
      "cell_type": "markdown",
      "metadata": {
        "id": "TTJLXGI3P9mT"
      },
      "source": [
        "## Answers:"
      ]
    },
    {
      "cell_type": "markdown",
      "metadata": {
        "id": "ZhZFZ7SbP9mT"
      },
      "source": [
        "$A_1 = \\left[\\begin{matrix}18 & -64 & 24 & 36\\\\-90 & -20 & 48 & -36\\\\27 & 74 & -48 & -18\\end{matrix}\\right]$\n"
      ]
    },
    {
      "cell_type": "markdown",
      "metadata": {
        "id": "dvUN6O9bP9mU"
      },
      "source": [
        "$||A-A_1||_2$ = 66"
      ]
    },
    {
      "cell_type": "markdown",
      "metadata": {
        "id": "gX6SeZ3yP9mU"
      },
      "source": [
        "## Task 2"
      ]
    },
    {
      "cell_type": "markdown",
      "metadata": {
        "id": "QWtVDxtuP9mU"
      },
      "source": [
        "Estimate the relative error of the approximate solution $(1, 1)$ of the system $Ax = b$ in the norms $|\\cdot|_1$ and $|\\cdot|_2$ using the condition number of the matrix $A$, where\n",
        "$$A = \\begin{pmatrix} 4.91 & 0.15 \\\\8.18 & −8.11\\end{pmatrix}, b = \\begin{pmatrix} 4.95 \\\\−0.09\\end{pmatrix}$$"
      ]
    },
    {
      "cell_type": "markdown",
      "metadata": {
        "id": "I9JLUzdhP9mU"
      },
      "source": [
        "$$\\hat{A} = \\begin{pmatrix} 5 & 0 \\\\8 & -8\\end{pmatrix}, \\hat{b} = \\begin{pmatrix} 5 \\\\0\\end{pmatrix}, \\hat{x} = \\begin{pmatrix} 1 \\\\1\\end{pmatrix}$$"
      ]
    },
    {
      "cell_type": "code",
      "execution_count": 7,
      "metadata": {
        "id": "KH9ep8mvP9mV"
      },
      "outputs": [],
      "source": [
        "A = np.array([[5, 0],\n",
        "              [8, -8]])\n",
        "b = np.array([[5],\n",
        "              [0]])\n",
        "x = np.array([[1],\n",
        "              [1]])"
      ]
    },
    {
      "cell_type": "markdown",
      "metadata": {
        "id": "kvxaMt6kP9mV"
      },
      "source": [
        "Let us find the inverse matrix of $\\hat{A}$:"
      ]
    },
    {
      "cell_type": "code",
      "execution_count": 8,
      "metadata": {
        "colab": {
          "base_uri": "https://localhost:8080/",
          "height": 58
        },
        "id": "uiXmxM9lP9mV",
        "outputId": "f38242ec-0bed-4915-fde7-769e73831fd1"
      },
      "outputs": [
        {
          "output_type": "execute_result",
          "data": {
            "text/latex": "$\\displaystyle \\left[\\begin{matrix}0.2 & 0.0\\\\0.2 & -0.125\\end{matrix}\\right]$",
            "text/plain": [
              "Matrix([\n",
              "[0.2,    0.0],\n",
              "[0.2, -0.125]])"
            ]
          },
          "metadata": {},
          "execution_count": 8
        }
      ],
      "source": [
        "A_inv = np.linalg.inv(A)\n",
        "sp.Matrix(A_inv)"
      ]
    },
    {
      "cell_type": "markdown",
      "metadata": {
        "id": "FtZ3yqHNP9mV"
      },
      "source": [
        "Now we need to find a condition number $\\chi_1(A)$ for the norm $|\\cdot|_1$:"
      ]
    },
    {
      "cell_type": "markdown",
      "metadata": {
        "id": "uueXZJ1IP9mW"
      },
      "source": [
        "$$\\chi(A) \\approx \\chi(\\hat{A}) \\approx ||\\hat{A}||\\cdot||\\hat{A}^{-1}||\n",
        "$$"
      ]
    },
    {
      "cell_type": "code",
      "execution_count": 9,
      "metadata": {
        "colab": {
          "base_uri": "https://localhost:8080/",
          "height": 38
        },
        "id": "SqLbaM9UP9mW",
        "outputId": "3294f73a-67f4-4b79-a948-dc00a16ab2d5"
      },
      "outputs": [
        {
          "output_type": "execute_result",
          "data": {
            "text/latex": "$$\\chi_1(A) = 5.2$$",
            "text/plain": [
              "<IPython.core.display.Math object>"
            ]
          },
          "metadata": {},
          "execution_count": 9
        }
      ],
      "source": [
        "chi_1 = max(np.sum(np.abs(A), axis=0)) * max(np.sum(np.abs(A_inv), axis=0))\n",
        "Math(\"\\\\chi_1(A) = %s\" % chi_1)"
      ]
    },
    {
      "cell_type": "markdown",
      "metadata": {
        "id": "tojx7z1xP9mW"
      },
      "source": [
        "Then let us find a condition number $\\chi_2(A)$ for the norm $|\\cdot|_2$:\n",
        "$$\\chi_2 = \\sqrt{\\frac{\\lambda_{max}(A^*A)}{\\lambda_{min}(A^*A)}}$$\n"
      ]
    },
    {
      "cell_type": "markdown",
      "metadata": {
        "id": "fppJuMy9P9mW"
      },
      "source": [
        "Firstly, we need to find singular values for the matrix $A^*A$:"
      ]
    },
    {
      "cell_type": "code",
      "execution_count": 10,
      "metadata": {
        "colab": {
          "base_uri": "https://localhost:8080/",
          "height": 0
        },
        "id": "-heKeevXP9mW",
        "outputId": "1005bb75-4b51-45be-d388-637dbe9d0fc2"
      },
      "outputs": [
        {
          "output_type": "stream",
          "name": "stdout",
          "text": [
            "Singular values: [141.70927848  11.29072152]\n"
          ]
        }
      ],
      "source": [
        "_, Sigma, _ = np.linalg.svd(A.T @ A)\n",
        "print(\"Singular values: %s\" % Sigma)"
      ]
    },
    {
      "cell_type": "code",
      "execution_count": 11,
      "metadata": {
        "colab": {
          "base_uri": "https://localhost:8080/",
          "height": 38
        },
        "id": "BvUhcxbuP9mW",
        "outputId": "c3130219-a4db-4ddd-f37e-b82ff711cd33"
      },
      "outputs": [
        {
          "output_type": "execute_result",
          "data": {
            "text/latex": "$$\\chi_2(A) = 3.5427319620225806 \\approx 3.54$$",
            "text/plain": [
              "<IPython.core.display.Math object>"
            ]
          },
          "metadata": {},
          "execution_count": 11
        }
      ],
      "source": [
        "chi_2 = np.sqrt(np.max(Sigma) / np.min(Sigma))\n",
        "Math(\"\\\\chi_2(A) = %s \\\\approx %s\" % (chi_2, np.round(chi_2, 2)))"
      ]
    },
    {
      "cell_type": "markdown",
      "metadata": {
        "id": "l1b1NMiCP9mX"
      },
      "source": [
        "Now, let us now find $\\Delta b, \\delta_1 b,\\delta_2 b$:"
      ]
    },
    {
      "cell_type": "code",
      "execution_count": 12,
      "metadata": {
        "id": "IJPIAqnqP9mX"
      },
      "outputs": [],
      "source": [
        "b_1 = np.array([[4.95],\n",
        "                [-0.09]])\n",
        "\n",
        "Delta_b = b - b_1\n",
        "\n",
        "delta_1_b = np.sum(np.abs(Delta_b)) / np.sum(np.abs(b))\n",
        "delta_2_b = np.sqrt(np.sum(Delta_b**2)) / np.sqrt(np.sum(b**2))"
      ]
    },
    {
      "cell_type": "code",
      "execution_count": 13,
      "metadata": {
        "colab": {
          "base_uri": "https://localhost:8080/",
          "height": 38
        },
        "id": "9N-3sGZ2P9mX",
        "outputId": "eb4e8c7d-3a07-4363-ed1e-f6d4d19fd9fa"
      },
      "outputs": [
        {
          "output_type": "execute_result",
          "data": {
            "text/latex": "$$\\delta_1 b = 0.028$$",
            "text/plain": [
              "<IPython.core.display.Math object>"
            ]
          },
          "metadata": {},
          "execution_count": 13
        }
      ],
      "source": [
        "Math(\"\\\\delta_1 b = %s\" % np.round(delta_1_b, 3))"
      ]
    },
    {
      "cell_type": "code",
      "execution_count": 14,
      "metadata": {
        "colab": {
          "base_uri": "https://localhost:8080/",
          "height": 38
        },
        "id": "6vfKtGIBP9mX",
        "outputId": "7e11d6a0-5c26-4968-e036-f77d36da5020"
      },
      "outputs": [
        {
          "output_type": "execute_result",
          "data": {
            "text/latex": "$$\\delta_2 b = 0.021$$",
            "text/plain": [
              "<IPython.core.display.Math object>"
            ]
          },
          "metadata": {},
          "execution_count": 14
        }
      ],
      "source": [
        "Math(\"\\\\delta_2 b = %s\" % np.round(delta_2_b, 3))"
      ]
    },
    {
      "cell_type": "markdown",
      "metadata": {
        "id": "7zlV1NalP9mX"
      },
      "source": [
        "And $\\Delta A, \\delta_1 A,\\delta_2 A$:"
      ]
    },
    {
      "cell_type": "code",
      "execution_count": 15,
      "metadata": {
        "id": "jm7wETGEP9mY"
      },
      "outputs": [],
      "source": [
        "A_1 = np.array([[4.91, 0.15],\n",
        "                [8.18, -8.11]])\n",
        "\n",
        "Delta_A = A - A_1\n",
        "\n",
        "delta_1_A = np.max(np.sum(np.abs(Delta_A), axis=0)) / np.max(np.sum(np.abs(A), axis=0))\n",
        "_, Sigma_delta, _ = np.linalg.svd(Delta_A.T @ Delta_A)\n",
        "delta_2_A = np.sqrt(np.max(Sigma_delta) / np.max(Sigma))"
      ]
    },
    {
      "cell_type": "code",
      "execution_count": 16,
      "metadata": {
        "colab": {
          "base_uri": "https://localhost:8080/",
          "height": 38
        },
        "id": "r6Dl0z9zP9mY",
        "outputId": "fbb7b899-bb15-4793-da4d-c7cda48b85e2"
      },
      "outputs": [
        {
          "output_type": "execute_result",
          "data": {
            "text/latex": "$$\\delta_1 A = 0.021$$",
            "text/plain": [
              "<IPython.core.display.Math object>"
            ]
          },
          "metadata": {},
          "execution_count": 16
        }
      ],
      "source": [
        "Math(\"\\\\delta_1 A = %s\" % np.round(delta_1_A, 3))"
      ]
    },
    {
      "cell_type": "code",
      "execution_count": 17,
      "metadata": {
        "colab": {
          "base_uri": "https://localhost:8080/",
          "height": 38
        },
        "id": "UZidCcSKP9mY",
        "outputId": "c8055c4f-e587-43d4-9e7e-f3532a20f147"
      },
      "outputs": [
        {
          "output_type": "execute_result",
          "data": {
            "text/latex": "$$\\delta_2 A = 0.022$$",
            "text/plain": [
              "<IPython.core.display.Math object>"
            ]
          },
          "metadata": {},
          "execution_count": 17
        }
      ],
      "source": [
        "Math(\"\\\\delta_2 A = %s\" % np.round(delta_2_A, 3))"
      ]
    },
    {
      "cell_type": "code",
      "execution_count": 18,
      "metadata": {
        "colab": {
          "base_uri": "https://localhost:8080/",
          "height": 0
        },
        "id": "TUfsN1VZP9mY",
        "outputId": "d3e0983b-52bd-4aa3-d7c9-9683327614b9"
      },
      "outputs": [
        {
          "output_type": "execute_result",
          "data": {
            "text/plain": [
              "(array([[0.05],\n",
              "        [0.09]]), 0.13999999999999982, 5, 0.10295630140986992, 5.0)"
            ]
          },
          "metadata": {},
          "execution_count": 18
        }
      ],
      "source": [
        "Delta_b, np.sum(np.abs(Delta_b)), np.sum(np.abs(b)), np.sqrt(np.sum(Delta_b**2)), np.sqrt(np.sum(b**2))"
      ]
    },
    {
      "cell_type": "code",
      "execution_count": 19,
      "metadata": {
        "colab": {
          "base_uri": "https://localhost:8080/",
          "height": 0
        },
        "id": "FEQ-34Y1P9mY",
        "outputId": "d905e4d4-aacf-4f7e-bb65-2065eed0bd22"
      },
      "outputs": [
        {
          "output_type": "execute_result",
          "data": {
            "text/plain": [
              "(array([[ 0.09, -0.15],\n",
              "        [-0.18,  0.11]]),\n",
              " 0.2699999999999996,\n",
              " 13,\n",
              " 0.07098041280032272,\n",
              " 141.70927848090332)"
            ]
          },
          "metadata": {},
          "execution_count": 19
        }
      ],
      "source": [
        "Delta_A, np.max(np.sum(np.abs(Delta_A), axis=0)), np.max(np.sum(np.abs(A), axis=0)), np.max(Sigma_delta), np.max(Sigma)"
      ]
    },
    {
      "cell_type": "markdown",
      "metadata": {
        "id": "T6rRVWd-P9mZ"
      },
      "source": [
        "$$\\Delta b = \\begin{pmatrix}0.05 \\\\ 0.09\\end{pmatrix}$$\n",
        "\n",
        "$$\\Delta A = \\begin{pmatrix}0.09 & -0.15\\\\-0.18 & 0.11\\end{pmatrix}$$\n",
        "\n",
        "$$\\delta_1 b =\\frac{|\\Delta b|_1}{|b|_1}\\approx \\frac{|\\Delta b|_1}{|\\hat{b}|_1} = \\frac{0.14}{5}= 0.028$$\n",
        "\n",
        "$$\\delta_2 b =\\frac{|\\Delta b|_2}{|b|_2}\\approx \\frac{|\\Delta b|_2}{|\\hat{b}|_2} = \\frac{0.1029}{5}= 0.021$$\n",
        "\n",
        "$$\\delta_1 A =\\frac{|\\Delta A|_1}{|A|_1}\\approx \\frac{|\\Delta A|_1}{|\\hat{A}|_1} = \\frac{0.27}{13}= 0.021$$\n",
        "\n",
        "$$\\delta_2 A =\\frac{|\\Delta A|_2}{|A|_2}\\approx \\frac{|\\Delta A|_2}{|\\hat{A}|_2} =\\frac{\\sigma_1 (\\Delta A)}{\\sigma_1 (A)} = \\frac{\\sqrt{0.07098}}{\\sqrt{141.70928}}= 0.022$$"
      ]
    },
    {
      "cell_type": "code",
      "execution_count": 20,
      "metadata": {
        "colab": {
          "base_uri": "https://localhost:8080/",
          "height": 38
        },
        "id": "MfiMrtPCP9mZ",
        "outputId": "17661cd1-d883-4fe2-a9fc-10f54728b33a"
      },
      "outputs": [
        {
          "output_type": "execute_result",
          "data": {
            "text/latex": "$$\\delta_1 x \\in [0.009, 0.254]$$",
            "text/plain": [
              "<IPython.core.display.Math object>"
            ]
          },
          "metadata": {},
          "execution_count": 20
        }
      ],
      "source": [
        "delta_1_x_max = chi_1 * (delta_1_b + delta_1_A)\n",
        "delta_2_x_max = chi_2 * (delta_2_b + delta_2_A)\n",
        "\n",
        "delta_1_x_min = 1 / chi_1 * (delta_1_b + delta_1_A)\n",
        "delta_2_x_min = 1 / chi_2 * (delta_2_b + delta_2_A)\n",
        "\n",
        "Math(\"\\delta_1 x \\in [%s, %s]\" % (np.round(delta_1_x_min, 3), np.round(delta_1_x_max, 3)))"
      ]
    },
    {
      "cell_type": "code",
      "execution_count": 21,
      "metadata": {
        "colab": {
          "base_uri": "https://localhost:8080/",
          "height": 38
        },
        "id": "mpLGQjnHP9mZ",
        "outputId": "6498ce30-c9c2-4946-f25c-53e7afe158bc"
      },
      "outputs": [
        {
          "output_type": "execute_result",
          "data": {
            "text/latex": "$$\\delta_2 x \\in [0.012, 0.152]$$",
            "text/plain": [
              "<IPython.core.display.Math object>"
            ]
          },
          "metadata": {},
          "execution_count": 21
        }
      ],
      "source": [
        "Math(\"\\delta_2 x \\in [%s, %s]\" % (np.round(delta_2_x_min, 3), np.round(delta_2_x_max, 3)))"
      ]
    },
    {
      "cell_type": "code",
      "execution_count": 22,
      "metadata": {
        "colab": {
          "base_uri": "https://localhost:8080/",
          "height": 0
        },
        "id": "-t-l1xwxP9mZ",
        "outputId": "1e5244a4-3d6a-450b-9a0a-6cc809fd79ab"
      },
      "outputs": [
        {
          "output_type": "execute_result",
          "data": {
            "text/plain": [
              "0.24422130177514761"
            ]
          },
          "metadata": {},
          "execution_count": 22
        }
      ],
      "source": [
        "delta_1_x_max - delta_1_x_min"
      ]
    },
    {
      "cell_type": "code",
      "execution_count": 23,
      "metadata": {
        "colab": {
          "base_uri": "https://localhost:8080/",
          "height": 0
        },
        "id": "pR9yI6UKP9mZ",
        "outputId": "b24e0f2b-6d73-4299-af8b-64d8911e8bb1"
      },
      "outputs": [
        {
          "output_type": "execute_result",
          "data": {
            "text/plain": [
              "0.1401079299596348"
            ]
          },
          "metadata": {},
          "execution_count": 23
        }
      ],
      "source": [
        "delta_2_x_max - delta_2_x_min"
      ]
    },
    {
      "cell_type": "markdown",
      "metadata": {
        "id": "VSNKSbanP9ma"
      },
      "source": [
        "## Answers:"
      ]
    },
    {
      "cell_type": "markdown",
      "metadata": {
        "id": "t04QnC3FP9ma"
      },
      "source": [
        "$\\delta_1 x \\in [0.009, 0.254]$"
      ]
    },
    {
      "cell_type": "markdown",
      "metadata": {
        "id": "kPapadyfP9ma"
      },
      "source": [
        "$\\delta_2 x \\in [0.012, 0.152]$ - lowest relative error"
      ]
    },
    {
      "cell_type": "markdown",
      "metadata": {
        "id": "BD-CyHThP9ma"
      },
      "source": [
        "## Task 3"
      ]
    },
    {
      "cell_type": "markdown",
      "metadata": {
        "id": "aS8wBpTvP9ma"
      },
      "source": [
        "Solve the system approximately and estimate the error of the solution in the norms $|\\cdot|_1$, $|\\cdot|_2$ and $|\\cdot|_{\\infty}$:\n",
        "$$ \n",
        "\\begin{cases} \n",
        "-(-8 + \\varepsilon_1)x + 2(4 + \\varepsilon_2)y = -5 + \\varepsilon_3 \\\\ \n",
        "4x + (-3+\\varepsilon_1)y = -2+ \\varepsilon_4 \n",
        "\\end{cases}\n",
        "$$\n",
        "where the unknown numbers $\\varepsilon_j$ satisfy the conditions $|\\varepsilon_j| < 0.05$ for all $j=1,...,4$."
      ]
    },
    {
      "cell_type": "markdown",
      "metadata": {
        "id": "4_iyan6xP9ma"
      },
      "source": [
        "Firstly, let us write the given system in the matrix form:\n",
        "\n",
        "$$A = \\widehat A + \\Delta A = \\begin{pmatrix} 8 & 8 \\\\ 4 & -3 \\end{pmatrix} + \\begin{pmatrix} -\\epsilon_{1} & 2\\epsilon_{2} \\\\ 0 & \\epsilon_{1} \\end{pmatrix}$$\n",
        "\n",
        "$$b = \\widehat b + \\Delta b = \\begin{pmatrix} -5 \\\\ -2 \\end{pmatrix} + \\begin{pmatrix} \\epsilon_{3} \\\\ \\epsilon_{4} \\end{pmatrix}$$"
      ]
    },
    {
      "cell_type": "markdown",
      "metadata": {
        "id": "OMQe690iP9ma"
      },
      "source": [
        "Then we need to find the inverse matrix of $\\hat{A}$ and find the solution:"
      ]
    },
    {
      "cell_type": "code",
      "execution_count": 24,
      "metadata": {
        "id": "Y2WiroBwP9ma"
      },
      "outputs": [],
      "source": [
        "A = np.array([[8, 8],\n",
        "              [4, -3]])\n",
        "b = np.array([[-5], \n",
        "              [-2]])\n",
        "\n",
        "A_inv = np.linalg.inv(A)\n",
        "x = A_inv @ b"
      ]
    },
    {
      "cell_type": "markdown",
      "metadata": {
        "id": "B2HMIRHLP9mb"
      },
      "source": [
        "For the norm $|\\cdot|_1$ the condition number is::"
      ]
    },
    {
      "cell_type": "code",
      "execution_count": 25,
      "metadata": {
        "colab": {
          "base_uri": "https://localhost:8080/",
          "height": 38
        },
        "id": "O-XsUoN7P9mb",
        "outputId": "a3c40622-c93e-43a3-f5bb-a93aa72a89d0"
      },
      "outputs": [
        {
          "output_type": "execute_result",
          "data": {
            "text/latex": "$$\\chi_1(A) = 3.4285714285714284 \\approx 3.43$$",
            "text/plain": [
              "<IPython.core.display.Math object>"
            ]
          },
          "metadata": {},
          "execution_count": 25
        }
      ],
      "source": [
        "chi_1 = np.max(np.sum(np.abs(A), axis=0)) * np.max(np.sum(np.abs(A_inv), axis=0))\n",
        "Math(\"\\\\chi_1(A) = %s \\\\approx %s\" % (chi_1, np.round(chi_1, 2)))"
      ]
    },
    {
      "cell_type": "markdown",
      "metadata": {
        "id": "UdG80fKaP9mb"
      },
      "source": [
        "For the norm $|\\cdot|_\\infty$ the condition number is:"
      ]
    },
    {
      "cell_type": "code",
      "execution_count": 26,
      "metadata": {
        "colab": {
          "base_uri": "https://localhost:8080/",
          "height": 38
        },
        "id": "KLWglrVyP9mb",
        "outputId": "9b80bf04-cb4a-41f5-fd74-f6efe8eb4f87"
      },
      "outputs": [
        {
          "output_type": "execute_result",
          "data": {
            "text/latex": "$$\\chi_\\infty(A) = 3.4285714285714284 \\approx 3.43$$",
            "text/plain": [
              "<IPython.core.display.Math object>"
            ]
          },
          "metadata": {},
          "execution_count": 26
        }
      ],
      "source": [
        "chi_inf = np.max(np.sum(np.abs(A), axis=1)) * np.max(np.sum(np.abs(A_inv), axis=1))\n",
        "Math(\"\\\\chi_\\infty(A) = %s \\\\approx %s\" % (chi_inf, np.round(chi_inf, 2)))"
      ]
    },
    {
      "cell_type": "markdown",
      "metadata": {
        "id": "dqUv6jxtP9mb"
      },
      "source": [
        "Let us find the condition number for the norm $|\\cdot|_2$:"
      ]
    },
    {
      "cell_type": "code",
      "execution_count": 27,
      "metadata": {
        "colab": {
          "base_uri": "https://localhost:8080/",
          "height": 0
        },
        "id": "qdvkR5ecP9mb",
        "outputId": "0071106a-c1e1-4cb4-cffa-a471653b521e"
      },
      "outputs": [
        {
          "output_type": "stream",
          "name": "stdout",
          "text": [
            "Singular values: [128.61765536  24.38234464]\n"
          ]
        }
      ],
      "source": [
        "_, Sigma, _ = np.linalg.svd(A.T @ A)\n",
        "print(\"Singular values: %s\" % Sigma)"
      ]
    },
    {
      "cell_type": "code",
      "execution_count": 28,
      "metadata": {
        "colab": {
          "base_uri": "https://localhost:8080/",
          "height": 38
        },
        "id": "AjIrnCgHP9mc",
        "outputId": "f4054acc-1e04-4ee4-c6f1-6733a6cd1cd2"
      },
      "outputs": [
        {
          "output_type": "execute_result",
          "data": {
            "text/latex": "$$\\chi_2(A) = 2.2967438456759557 \\approx 2.3$$",
            "text/plain": [
              "<IPython.core.display.Math object>"
            ]
          },
          "metadata": {},
          "execution_count": 28
        }
      ],
      "source": [
        "chi_2 = np.sqrt(np.max(Sigma) / np.min(Sigma))\n",
        "Math(\"\\\\chi_2(A) = %s \\\\approx %s\" % (chi_2, np.round(chi_2, 2)))"
      ]
    },
    {
      "cell_type": "code",
      "execution_count": 29,
      "metadata": {
        "colab": {
          "base_uri": "https://localhost:8080/",
          "height": 0
        },
        "id": "J811lAUTP9mc",
        "outputId": "ac7d5b37-f9b4-412a-f485-95d84520ecf4"
      },
      "outputs": [
        {
          "output_type": "execute_result",
          "data": {
            "text/plain": [
              "(Matrix([\n",
              " [-varepsilon1, 2*varepsilon2],\n",
              " [           0,   varepsilon1]]), Matrix([\n",
              " [varepsilon3],\n",
              " [varepsilon4]]))"
            ]
          },
          "metadata": {},
          "execution_count": 29
        }
      ],
      "source": [
        "e1, e2, e3, e4 = sp.symbols('varepsilon1:5')\n",
        "\n",
        "A_1 = sp.Matrix([[8 - e1, 2 * (4 + e2)],\n",
        "                 [4, -3 + e1]])\n",
        "b_1 = sp.Matrix([[-5 + e3], \n",
        "                 [-2 + e4]])\n",
        "\n",
        "Delta_A = A_1 - sp.Matrix(A)\n",
        "Delta_b = b_1 - sp.Matrix(b)\n",
        "\n",
        "Delta_A, Delta_b"
      ]
    },
    {
      "cell_type": "markdown",
      "metadata": {
        "id": "v86uOlgFP9mc"
      },
      "source": [
        "Let us find $\\varepsilon_1, \\varepsilon_2, \\varepsilon_3, \\varepsilon_4 \\in \\left[ -0.05, 0.05 \\right]$ where $\\delta_1 A + \\delta_1 b$ is max."
      ]
    },
    {
      "cell_type": "code",
      "execution_count": 30,
      "metadata": {
        "colab": {
          "base_uri": "https://localhost:8080/",
          "height": 0
        },
        "id": "Z1mtlmDIP9mc",
        "outputId": "2bdebc0b-0185-4b88-ffa8-bece4e432543"
      },
      "outputs": [
        {
          "output_type": "stream",
          "name": "stdout",
          "text": [
            "(0.026785714285714288, -0.05, -0.05, -0.05, -0.05)\n"
          ]
        }
      ],
      "source": [
        "epsilons = np.arange(-0.05, 0.05, 0.01)\n",
        "\n",
        "result = []\n",
        "\n",
        "for ep1 in epsilons:\n",
        "    for ep2 in epsilons:\n",
        "        for ep3 in epsilons:\n",
        "            for ep4 in epsilons:\n",
        "                Delta_b_iter = np.array(Delta_b.subs([(e3, ep3), (e4, ep4)])).astype(np.float64)\n",
        "                Delta_A_iter = np.array(Delta_A.subs([(e1, ep1), (e2, ep2)])).astype(np.float64)\n",
        "                \n",
        "                delta_1_b = np.sum(np.abs(Delta_b_iter)) / np.sum(np.abs(b))\n",
        "                delta_1_A = np.max(np.sum(np.abs(Delta_A_iter), axis=0)) / np.max(np.sum(np.abs(A), axis=0))\n",
        "                delta_1_Ab = delta_1_A + delta_1_b\n",
        "                \n",
        "                result.append((delta_1_Ab, ep1, ep2, ep3, ep4))\n",
        "                \n",
        "print(max(result, key=lambda x: x[0]))"
      ]
    },
    {
      "cell_type": "markdown",
      "metadata": {
        "id": "RVlGoKNkP9mc"
      },
      "source": [
        "So, $\\varepsilon_1 = \\varepsilon_2 = \\varepsilon_3 = \\varepsilon_4 = -0.05$"
      ]
    },
    {
      "cell_type": "code",
      "execution_count": 31,
      "metadata": {
        "colab": {
          "base_uri": "https://localhost:8080/",
          "height": 0
        },
        "id": "qbU6oqS_P9mc",
        "outputId": "56521c1f-9770-4692-87b3-483e7b268171"
      },
      "outputs": [
        {
          "output_type": "execute_result",
          "data": {
            "text/plain": [
              "(array([[ 0.05, -0.1 ],\n",
              "        [ 0.  , -0.05]]), array([[-0.05],\n",
              "        [-0.05]]))"
            ]
          },
          "metadata": {},
          "execution_count": 31
        }
      ],
      "source": [
        "Delta_A = np.array(Delta_A.subs([(e1, -0.05), (e2, -0.05)])).astype(np.float64)\n",
        "Delta_b = np.array(Delta_b.subs([(e3, -0.05), (e4, -0.05)])).astype(np.float64)\n",
        "\n",
        "Delta_A, Delta_b"
      ]
    },
    {
      "cell_type": "markdown",
      "metadata": {
        "id": "s9zBLpnrP9mc"
      },
      "source": [
        "In the norm $|\\cdot|_1$:"
      ]
    },
    {
      "cell_type": "code",
      "execution_count": 32,
      "metadata": {
        "id": "od-ZpEAlP9md"
      },
      "outputs": [],
      "source": [
        "delta_1_b = np.sum(np.abs(Delta_b)) / np.sum(np.abs(b))\n",
        "delta_1_A = np.max(np.sum(np.abs(Delta_A), axis=0)) / np.max(np.sum(np.abs(A), axis=0))"
      ]
    },
    {
      "cell_type": "code",
      "execution_count": 33,
      "metadata": {
        "colab": {
          "base_uri": "https://localhost:8080/",
          "height": 38
        },
        "id": "Md2myTR6P9md",
        "outputId": "37b41dfd-6ee0-4f89-ca2e-9d59a25befbc"
      },
      "outputs": [
        {
          "output_type": "execute_result",
          "data": {
            "text/latex": "$$\\delta_1 b = 0.014$$",
            "text/plain": [
              "<IPython.core.display.Math object>"
            ]
          },
          "metadata": {},
          "execution_count": 33
        }
      ],
      "source": [
        "Math(\"\\\\delta_1 b = %s\" % np.round(delta_1_b, 3))"
      ]
    },
    {
      "cell_type": "code",
      "execution_count": 34,
      "metadata": {
        "colab": {
          "base_uri": "https://localhost:8080/",
          "height": 38
        },
        "id": "o0ZbWmFWP9md",
        "outputId": "7a67bb1b-3cbd-49e9-e118-5e2b98be8845"
      },
      "outputs": [
        {
          "output_type": "execute_result",
          "data": {
            "text/latex": "$$\\delta_1 A = 0.013$$",
            "text/plain": [
              "<IPython.core.display.Math object>"
            ]
          },
          "metadata": {},
          "execution_count": 34
        }
      ],
      "source": [
        "Math(\"\\\\delta_1 A = %s\" % np.round(delta_1_A, 3))"
      ]
    },
    {
      "cell_type": "markdown",
      "metadata": {
        "id": "M9bPjYpEP9md"
      },
      "source": [
        "$$\\delta_1 A =\\frac{|\\Delta A|_1}{|A|_1}\\approx \\frac{|\\Delta A|_1}{|\\hat{A}|_1} = 0.013$$\n",
        "$$\\delta_1 b =\\frac{|\\Delta b|_1}{|b|_1}\\approx \\frac{|\\Delta b|_1}{|\\hat{b}|_1} = 0.014$$"
      ]
    },
    {
      "cell_type": "markdown",
      "metadata": {
        "id": "S1eMXXPrP9md"
      },
      "source": [
        "In the norm $|\\cdot|_2$:"
      ]
    },
    {
      "cell_type": "code",
      "execution_count": 35,
      "metadata": {
        "id": "rh11cB0qP9md"
      },
      "outputs": [],
      "source": [
        "delta_2_b = np.sqrt(np.sum(Delta_b ** 2))/np.sqrt(np.sum(b**2))\n",
        "\n",
        "_, Sigma_delta, _ = np.linalg.svd(Delta_A.T @ Delta_A)\n",
        "delta_2_A = np.sqrt(np.max(Sigma_delta) / np.max(Sigma))"
      ]
    },
    {
      "cell_type": "code",
      "execution_count": 36,
      "metadata": {
        "colab": {
          "base_uri": "https://localhost:8080/",
          "height": 38
        },
        "id": "Ny_pbkGOP9md",
        "outputId": "477cc684-560f-43d3-aabd-46c0227c6a90"
      },
      "outputs": [
        {
          "output_type": "execute_result",
          "data": {
            "text/latex": "$$\\delta_2 b = 0.013$$",
            "text/plain": [
              "<IPython.core.display.Math object>"
            ]
          },
          "metadata": {},
          "execution_count": 36
        }
      ],
      "source": [
        "Math(\"\\\\delta_2 b = %s\" % np.round(delta_2_b, 3))"
      ]
    },
    {
      "cell_type": "code",
      "execution_count": 37,
      "metadata": {
        "colab": {
          "base_uri": "https://localhost:8080/",
          "height": 38
        },
        "id": "0Yl6lYoIP9md",
        "outputId": "f75e2584-d76b-4cb9-edc6-815c650e7287"
      },
      "outputs": [
        {
          "output_type": "execute_result",
          "data": {
            "text/latex": "$$\\delta_2 A = 0.011$$",
            "text/plain": [
              "<IPython.core.display.Math object>"
            ]
          },
          "metadata": {},
          "execution_count": 37
        }
      ],
      "source": [
        "Math(\"\\\\delta_2 A = %s\" % np.round(delta_2_A, 3))"
      ]
    },
    {
      "cell_type": "markdown",
      "metadata": {
        "id": "JakPuFQZP9me"
      },
      "source": [
        "$$\\delta_2 A =\\frac{|\\Delta A|_2}{|A|_2}\\approx \\frac{|\\Delta A|_2}{|\\hat{A}|_2} =\\frac{\\sigma_1 (\\Delta A)}{\\sigma_1 (A)} = 0.011$$\n",
        "$$\\delta_2 b =\\frac{|\\Delta b|_2}{|b|_2}\\approx \\frac{|\\Delta b|_2}{|\\hat{b}|_2} = 0.013$$"
      ]
    },
    {
      "cell_type": "markdown",
      "metadata": {
        "id": "o-Wo-pguP9me"
      },
      "source": [
        "In the norm $|\\cdot|_\\infty$:"
      ]
    },
    {
      "cell_type": "code",
      "execution_count": 38,
      "metadata": {
        "id": "3f9IwqyXP9me"
      },
      "outputs": [],
      "source": [
        "delta_inf_b = np.max(np.abs(Delta_b)) / np.max(np.abs(b))\n",
        "delta_inf_A = np.max(np.sum(np.abs(Delta_A), axis=1)) / np.max(np.sum(np.abs(A), axis=1))"
      ]
    },
    {
      "cell_type": "code",
      "execution_count": 39,
      "metadata": {
        "colab": {
          "base_uri": "https://localhost:8080/",
          "height": 38
        },
        "id": "xiAjcEY5P9me",
        "outputId": "008fab66-ca1f-47f0-f189-ac68cf3561b3"
      },
      "outputs": [
        {
          "output_type": "execute_result",
          "data": {
            "text/latex": "$$\\delta_\\infty b = 0.01$$",
            "text/plain": [
              "<IPython.core.display.Math object>"
            ]
          },
          "metadata": {},
          "execution_count": 39
        }
      ],
      "source": [
        "Math(\"\\\\delta_\\infty b = %s\" % np.round(delta_inf_b, 6))"
      ]
    },
    {
      "cell_type": "code",
      "execution_count": 40,
      "metadata": {
        "colab": {
          "base_uri": "https://localhost:8080/",
          "height": 38
        },
        "id": "-ZNl-j8RP9me",
        "outputId": "d538883b-ae72-4ff9-ac4c-21879f6e60bb"
      },
      "outputs": [
        {
          "output_type": "execute_result",
          "data": {
            "text/latex": "$$\\delta_\\infty A = 0.009375$$",
            "text/plain": [
              "<IPython.core.display.Math object>"
            ]
          },
          "metadata": {},
          "execution_count": 40
        }
      ],
      "source": [
        "Math(\"\\\\delta_\\infty A = %s\" % np.round(delta_inf_A, 6))"
      ]
    },
    {
      "cell_type": "markdown",
      "metadata": {
        "id": "qudSsVlTP9me"
      },
      "source": [
        "$$\\delta_{\\infty} A =\\frac{|\\Delta A|_{\\infty}}{|A|_{\\infty}}\\approx \\frac{|\\Delta A|_{\\infty}}{|\\hat{A}|_{\\infty}} = 0.009375$$\n",
        "$$\\delta_{\\infty} b =\\frac{|\\Delta b|_{\\infty}}{|b|_{\\infty}}\\approx \\frac{|\\Delta b|_{\\infty}}{|\\hat{b}|_{\\infty}} = 0.01$$"
      ]
    },
    {
      "cell_type": "code",
      "execution_count": 41,
      "metadata": {
        "colab": {
          "base_uri": "https://localhost:8080/",
          "height": 0
        },
        "id": "rVY7Dlx3P9me",
        "outputId": "e08311b5-346e-4419-bfaf-b46ba1d7a3a3"
      },
      "outputs": [
        {
          "output_type": "execute_result",
          "data": {
            "text/plain": [
              "(0.091837, 0.054604, 0.066429)"
            ]
          },
          "metadata": {},
          "execution_count": 41
        }
      ],
      "source": [
        "delta_1_x_max = chi_1 * (delta_1_b + delta_1_A)\n",
        "delta_2_x_max = chi_2 * (delta_2_b + delta_2_A)\n",
        "delta_inf_x_max = chi_inf * (delta_inf_b + delta_inf_A)\n",
        "\n",
        "np.round(delta_1_x_max, 6), np.round(delta_2_x_max, 6), np.round(delta_inf_x_max, 6)"
      ]
    },
    {
      "cell_type": "markdown",
      "metadata": {
        "id": "uKO9IEU_P9me"
      },
      "source": [
        "## Answers:"
      ]
    },
    {
      "cell_type": "markdown",
      "metadata": {
        "id": "soU2MMTUP9mf"
      },
      "source": [
        "$\\hat{x} = \\left[\\begin{matrix}-0.553571\\\\-0.071429\\end{matrix}\\right]$"
      ]
    },
    {
      "cell_type": "markdown",
      "metadata": {
        "id": "zseLzkzsP9mf"
      },
      "source": [
        "$\\delta_{1} x \\leq 0.091837$"
      ]
    },
    {
      "cell_type": "markdown",
      "metadata": {
        "id": "qBwzkq5eP9mf"
      },
      "source": [
        "$\\delta_{2} x \\leq 0.054604$"
      ]
    },
    {
      "cell_type": "markdown",
      "metadata": {
        "id": "EoCsWmXFP9mf"
      },
      "source": [
        "$\\delta_{\\infty} x \\leq 0.066429)$"
      ]
    },
    {
      "cell_type": "markdown",
      "metadata": {
        "id": "O4SSJJHVP9mf"
      },
      "source": [
        "## Task 4"
      ]
    },
    {
      "cell_type": "markdown",
      "metadata": {
        "id": "S0jwlZ8-P9mf"
      },
      "source": [
        "Find the approximate inverse matrix to the matrix $A$ and evaluate the approximation error with respect to the uniform norm $||\\cdot||_1$, if the elements of the matrix $A$ are known with an absolute error of 0.01:\n",
        "$$A \\approx \\begin{pmatrix}-6 & -6\\\\-3 & 4\\end{pmatrix}$$"
      ]
    },
    {
      "cell_type": "markdown",
      "metadata": {
        "id": "aq2u4jo3P9mf"
      },
      "source": [
        "Let us find the inverse matrix:"
      ]
    },
    {
      "cell_type": "code",
      "execution_count": 42,
      "metadata": {
        "colab": {
          "base_uri": "https://localhost:8080/",
          "height": 0
        },
        "id": "Crl47npvP9mf",
        "outputId": "f3297412-6b46-4576-8984-eea9eceb5cc1"
      },
      "outputs": [
        {
          "output_type": "execute_result",
          "data": {
            "text/plain": [
              "array([[-0.0952381 , -0.14285714],\n",
              "       [-0.07142857,  0.14285714]])"
            ]
          },
          "metadata": {},
          "execution_count": 42
        }
      ],
      "source": [
        "A = np.array([[-6, -6],\n",
        "              [-3, 4]])\n",
        "\n",
        "np.linalg.inv(A)"
      ]
    },
    {
      "cell_type": "markdown",
      "metadata": {
        "id": "E3E2867XP9mf"
      },
      "source": [
        "Then we need to find the condition number in the uniform norm $||\\cdot||_1$:"
      ]
    },
    {
      "cell_type": "markdown",
      "metadata": {
        "id": "f9fbRi6yP9mg"
      },
      "source": [
        "$$\\chi_1(A) \\approx \\chi(\\hat{A}) \\approx ||\\hat{A}||_1\\cdot||\\hat A^{-1}||_1=\\max\\{9,10\\}\\cdot \\max\\{0.167, 0.286\\} = 10 \\cdot 0.286 = 2.86\n",
        "$$"
      ]
    },
    {
      "cell_type": "markdown",
      "metadata": {
        "id": "e_w_S68VP9mg"
      },
      "source": [
        "$$||\\epsilon||_{1} = ||\\Delta A||_{1} = \\displaystyle\\max_{j}|\\Delta A^{j}| = 0.02$$"
      ]
    },
    {
      "cell_type": "markdown",
      "metadata": {
        "id": "Sz2tt0TzP9mg"
      },
      "source": [
        "$$\\delta \\varepsilon = \\frac {||\\varepsilon||_1}{||\\hat A||_1}=\\frac {0.02}{10}=0.002$$\n"
      ]
    },
    {
      "cell_type": "markdown",
      "metadata": {
        "id": "A6a-Co3iP9mg"
      },
      "source": [
        "Approximation error:\n",
        "$$ \\delta A^{-1} \\leq \\frac{\\chi_1(\\hat A) \\delta \\varepsilon}{1-\\chi_1 (\\hat A)\\delta \\varepsilon}=\\frac{2.86\\cdot0.002}{1-2.86 \\cdot 0.002}=0.00575$$"
      ]
    },
    {
      "cell_type": "markdown",
      "metadata": {
        "id": "waEaNIe4P9mg"
      },
      "source": [
        "## Answers:"
      ]
    },
    {
      "cell_type": "markdown",
      "metadata": {
        "id": "WD7-U73JP9mg"
      },
      "source": [
        "$A^{-1} \\approx \\left[\\begin{matrix}-0.09524 & -0.14286\\\\-0.07143 & 0.14286\\end{matrix}\\right]$"
      ]
    },
    {
      "cell_type": "markdown",
      "metadata": {
        "id": "U01siHh8P9mg"
      },
      "source": [
        "$ \\delta A^{-1} \\leq 0.00575$"
      ]
    },
    {
      "cell_type": "markdown",
      "metadata": {
        "id": "kRTXZy3NP9mg"
      },
      "source": [
        "## Task 5"
      ]
    },
    {
      "cell_type": "markdown",
      "metadata": {
        "id": "YycE46ZkP9mg"
      },
      "source": [
        "Use simple iteration method for finding the solution of the given linear system \n",
        "\n",
        "$$\\begin{cases} 22x + 8y + 1z = 6 \\\\ 5x + 23y + 5z = 5 \\\\ 5x + 1y + 20z = 1 \\end{cases}$$\n",
        "\n",
        "Determine the iteration number after which the approximation error for each coordinate does not exceed $0.01$ and find the corresponding approximate solution. Start with $x_0 = [0,0,0]^{T}$."
      ]
    },
    {
      "cell_type": "code",
      "execution_count": 43,
      "metadata": {
        "id": "45DCL3iyP9mh"
      },
      "outputs": [],
      "source": [
        "x_0 = np.array([[0],\n",
        "                [0],\n",
        "                [0]])\n",
        "A = np.array([[22, 8, 1],\n",
        "              [5, 23, 5],\n",
        "              [5, 1, 20]])\n",
        "B = np.array([[6],\n",
        "              [5],\n",
        "              [1]])"
      ]
    },
    {
      "cell_type": "code",
      "execution_count": 44,
      "metadata": {
        "colab": {
          "base_uri": "https://localhost:8080/",
          "height": 0
        },
        "id": "vezJ_pgCP9mh",
        "outputId": "d4a74742-6d4a-414c-a32c-65c77df9dace"
      },
      "outputs": [
        {
          "output_type": "execute_result",
          "data": {
            "text/plain": [
              "array([[0.04347826, 0.        , 0.        ],\n",
              "       [0.        , 0.04347826, 0.        ],\n",
              "       [0.        , 0.        , 0.04347826]])"
            ]
          },
          "metadata": {},
          "execution_count": 44
        }
      ],
      "source": [
        "c_max = max(A[0][0], A[1][1], A[2][2])\n",
        "C = np.array([[1 / c_max, 0, 0],\n",
        "              [0, 1 / c_max, 0],\n",
        "              [0, 0, 1 / c_max]])\n",
        "C"
      ]
    },
    {
      "cell_type": "markdown",
      "metadata": {
        "id": "swAJbIngP9mh"
      },
      "source": [
        "Let us find the matrix $P = I - CA$:"
      ]
    },
    {
      "cell_type": "code",
      "execution_count": 45,
      "metadata": {
        "colab": {
          "base_uri": "https://localhost:8080/",
          "height": 0
        },
        "id": "DETw_meAP9mh",
        "outputId": "14ea940e-f696-4119-fa1d-d37efd9e3dbc"
      },
      "outputs": [
        {
          "output_type": "execute_result",
          "data": {
            "text/plain": [
              "array([[ 0.04347826, -0.34782609, -0.04347826],\n",
              "       [-0.2173913 ,  0.        , -0.2173913 ],\n",
              "       [-0.2173913 , -0.04347826,  0.13043478]])"
            ]
          },
          "metadata": {},
          "execution_count": 45
        }
      ],
      "source": [
        "P = np.identity(3) - (C @ A)\n",
        "P"
      ]
    },
    {
      "cell_type": "markdown",
      "metadata": {
        "id": "NOp5hstSP9mh"
      },
      "source": [
        "Then we need to find $b=CB$:"
      ]
    },
    {
      "cell_type": "code",
      "execution_count": 46,
      "metadata": {
        "id": "zyoJC608P9mh"
      },
      "outputs": [],
      "source": [
        "b = C @ B "
      ]
    },
    {
      "cell_type": "markdown",
      "metadata": {
        "id": "HAlp2OJuP9mh"
      },
      "source": [
        "$||P||_{\\infty}=0.435<1$, it means that the iteration process converges."
      ]
    },
    {
      "cell_type": "code",
      "execution_count": 47,
      "metadata": {
        "colab": {
          "base_uri": "https://localhost:8080/",
          "height": 0
        },
        "id": "7xg15UmTP9mi",
        "outputId": "97c67b70-05fe-4c5c-e084-617720e0f957"
      },
      "outputs": [
        {
          "output_type": "execute_result",
          "data": {
            "text/plain": [
              "0.43478260869565216"
            ]
          },
          "metadata": {},
          "execution_count": 47
        }
      ],
      "source": [
        "np.max(np.sum(np.abs(P), axis=1))"
      ]
    },
    {
      "cell_type": "markdown",
      "metadata": {
        "id": "0K4RhGHLP9mi"
      },
      "source": [
        "Now, let us find $x$ using the following formula: \n",
        "$$x^{k+1} = Px^{k} + b$$"
      ]
    },
    {
      "cell_type": "code",
      "execution_count": 48,
      "metadata": {
        "colab": {
          "base_uri": "https://localhost:8080/",
          "height": 78
        },
        "id": "0HhaAaeBP9mi",
        "outputId": "07681123-bbcd-4cb4-b8fd-7134fe9388b5"
      },
      "outputs": [
        {
          "output_type": "execute_result",
          "data": {
            "text/latex": "$\\displaystyle \\left[\\begin{matrix}0.217473\\\\0.178762\\\\-0.007644\\end{matrix}\\right]$",
            "text/plain": [
              "Matrix([\n",
              "[ 0.217473],\n",
              "[ 0.178762],\n",
              "[-0.007644]])"
            ]
          },
          "metadata": {},
          "execution_count": 48
        }
      ],
      "source": [
        "x_1 = x_0\n",
        "k = 0\n",
        "\n",
        "while True:\n",
        "    k += 1\n",
        "    x_2 = P @ x_1 + b \n",
        "    \n",
        "    if (np.abs(x_2 - x_1) < 0.01).all():\n",
        "        break\n",
        "    \n",
        "    x_1 = x_2\n",
        "\n",
        "sp.Matrix(np.round(x_1, 6))"
      ]
    },
    {
      "cell_type": "code",
      "execution_count": 49,
      "metadata": {
        "colab": {
          "base_uri": "https://localhost:8080/",
          "height": 0
        },
        "id": "z90Dcl0WP9mi",
        "outputId": "c481cc21-7356-4adf-83be-2d8b2e786c2e"
      },
      "outputs": [
        {
          "output_type": "execute_result",
          "data": {
            "text/plain": [
              "4"
            ]
          },
          "metadata": {},
          "execution_count": 49
        }
      ],
      "source": [
        "k"
      ]
    },
    {
      "cell_type": "markdown",
      "metadata": {
        "id": "XT4nYzqHP9mi"
      },
      "source": [
        "## Answers:"
      ]
    },
    {
      "cell_type": "markdown",
      "metadata": {
        "id": "5XxRJTaSP9mi"
      },
      "source": [
        "$x = \\left[\\begin{matrix}0.217473\\\\0.178762\\\\-0.007644\\end{matrix}\\right]$"
      ]
    },
    {
      "cell_type": "markdown",
      "metadata": {
        "id": "B06IpEuQP9mi"
      },
      "source": [
        "After 4 iterations the approximation error for each coordinate does not exceed 0.01."
      ]
    },
    {
      "cell_type": "markdown",
      "metadata": {
        "id": "nuTd0QtXP9mi"
      },
      "source": [
        "## Task 6"
      ]
    },
    {
      "cell_type": "markdown",
      "metadata": {
        "id": "sO5CexUdP9mj"
      },
      "source": [
        "Find the most influential vertex in the graph:\n",
        "$$A = \\left[\\begin{matrix}\n",
        "0 & 1 & 0 & 1 & 0\\\\\n",
        "1 & 1 & 1 & 0 & 0\\\\\n",
        "1 & 1 & 1 & 0 & 0\\\\\n",
        "0 & 1 & 1 & 1 & 0\\\\\n",
        "0 & 0 & 0 & 1 & 1\\end{matrix}\\right]$$\n",
        "using the PageRank algorithm with damping factor = $1 − β = 0.85$, where the graph adjacency matrix is defined as follows"
      ]
    },
    {
      "cell_type": "code",
      "execution_count": 50,
      "metadata": {
        "id": "y5NOpiDeP9mj"
      },
      "outputs": [],
      "source": [
        "A = np.array([[0, 1, 0, 1, 0],\n",
        "              [1, 1, 1, 0, 0],\n",
        "              [1, 1, 1, 0, 0],\n",
        "              [0, 1, 1, 1, 0],\n",
        "              [0, 0, 0, 1, 1]])\n",
        "\n",
        "beta = 1 - 0.85"
      ]
    },
    {
      "cell_type": "code",
      "execution_count": 51,
      "metadata": {
        "colab": {
          "base_uri": "https://localhost:8080/",
          "height": 119
        },
        "id": "ojABvPEbP9mj",
        "outputId": "929a86dc-ed88-4d5b-f3dd-b0c39d006eac"
      },
      "outputs": [
        {
          "output_type": "execute_result",
          "data": {
            "text/latex": "$\\displaystyle \\left[\\begin{matrix}0.0 & 0.5 & 0.0 & 0.5 & 0.0\\\\0.333 & 0.333 & 0.333 & 0.0 & 0.0\\\\0.333 & 0.333 & 0.333 & 0.0 & 0.0\\\\0.0 & 0.333 & 0.333 & 0.333 & 0.0\\\\0.0 & 0.0 & 0.0 & 0.5 & 0.5\\end{matrix}\\right]$",
            "text/plain": [
              "Matrix([\n",
              "[  0.0,   0.5,   0.0,   0.5, 0.0],\n",
              "[0.333, 0.333, 0.333,   0.0, 0.0],\n",
              "[0.333, 0.333, 0.333,   0.0, 0.0],\n",
              "[  0.0, 0.333, 0.333, 0.333, 0.0],\n",
              "[  0.0,   0.0,   0.0,   0.5, 0.5]])"
            ]
          },
          "metadata": {},
          "execution_count": 51
        }
      ],
      "source": [
        "P = np.array([x / sum(row) for row in A for x in row]).reshape(5, 5)\n",
        "sp.Matrix(P.round(3))"
      ]
    },
    {
      "cell_type": "markdown",
      "metadata": {
        "id": "luWnhhSmP9mj"
      },
      "source": [
        "Now, let us build the matrix $Q$ and find the matrix $\\hat{P}$:  \n",
        "\n",
        "$$\\hat P = P\\cdot(1-\\beta)+Q\\cdot\\beta,$$\n",
        "where $\\beta = 0.15$"
      ]
    },
    {
      "cell_type": "code",
      "execution_count": 52,
      "metadata": {
        "colab": {
          "base_uri": "https://localhost:8080/",
          "height": 0
        },
        "id": "j3naqN5aP9mj",
        "outputId": "d70d9f59-6512-49b4-c313-abcef7c114ef"
      },
      "outputs": [
        {
          "output_type": "execute_result",
          "data": {
            "text/plain": [
              "(Matrix([\n",
              " [0.2, 0.2, 0.2, 0.2, 0.2],\n",
              " [0.2, 0.2, 0.2, 0.2, 0.2],\n",
              " [0.2, 0.2, 0.2, 0.2, 0.2],\n",
              " [0.2, 0.2, 0.2, 0.2, 0.2],\n",
              " [0.2, 0.2, 0.2, 0.2, 0.2]]), Matrix([\n",
              " [             0.03,             0.455,              0.03,             0.455,  0.03],\n",
              " [0.313333333333333, 0.313333333333333, 0.313333333333333,              0.03,  0.03],\n",
              " [0.313333333333333, 0.313333333333333, 0.313333333333333,              0.03,  0.03],\n",
              " [             0.03, 0.313333333333333, 0.313333333333333, 0.313333333333333,  0.03],\n",
              " [             0.03,              0.03,              0.03,             0.455, 0.455]]))"
            ]
          },
          "metadata": {},
          "execution_count": 52
        }
      ],
      "source": [
        "Q = np.ones((5, 5)) / 5\n",
        "P_hat = P * (1 - beta) + Q * beta\n",
        "\n",
        "sp.Matrix(Q), sp.Matrix(P_hat)"
      ]
    },
    {
      "cell_type": "markdown",
      "metadata": {
        "id": "cPppyNn4P9mk"
      },
      "source": [
        "Initial state: $$X_0 = \\left[\\begin{matrix}0.2\\\\0.2\\\\0.2\\\\0.2\\\\0.2\\end{matrix}\\right]$$\n"
      ]
    },
    {
      "cell_type": "code",
      "execution_count": 53,
      "metadata": {
        "colab": {
          "base_uri": "https://localhost:8080/",
          "height": 165
        },
        "id": "KNpp0olVP9mk",
        "outputId": "78c5eff8-1f80-42fa-edb7-93e26401df64"
      },
      "outputs": [
        {
          "output_type": "display_data",
          "data": {
            "text/latex": "$$x_1 = [0.1433, 0.285, 0.2, 0.2567, 0.115]^T$$",
            "text/plain": [
              "<IPython.core.display.Math object>"
            ]
          },
          "metadata": {}
        },
        {
          "output_type": "display_data",
          "data": {
            "text/latex": "$$x_2 = [0.1674, 0.3011, 0.2401, 0.2125, 0.0789]^T$$",
            "text/plain": [
              "<IPython.core.display.Math object>"
            ]
          },
          "metadata": {}
        },
        {
          "output_type": "display_data",
          "data": {
            "text/latex": "$$x_3 = [0.1833, 0.3147, 0.2436, 0.1949, 0.0635]^T$$",
            "text/plain": [
              "<IPython.core.display.Math object>"
            ]
          },
          "metadata": {}
        },
        {
          "output_type": "display_data",
          "data": {
            "text/latex": "$$x_4 = [0.1882, 0.3213, 0.2434, 0.1901, 0.057]^T$$",
            "text/plain": [
              "<IPython.core.display.Math object>"
            ]
          },
          "metadata": {}
        },
        {
          "output_type": "display_data",
          "data": {
            "text/latex": "$$x_5 = [0.19, 0.3238, 0.2439, 0.1881, 0.0542]^T$$",
            "text/plain": [
              "<IPython.core.display.Math object>"
            ]
          },
          "metadata": {}
        },
        {
          "output_type": "display_data",
          "data": {
            "text/latex": "$$x_6 = [0.1909, 0.3249, 0.2441, 0.1871, 0.053]^T$$",
            "text/plain": [
              "<IPython.core.display.Math object>"
            ]
          },
          "metadata": {}
        },
        {
          "output_type": "display_data",
          "data": {
            "text/latex": "$$x_7 = [0.1912, 0.3253, 0.2442, 0.1867, 0.0525]^T$$",
            "text/plain": [
              "<IPython.core.display.Math object>"
            ]
          },
          "metadata": {}
        }
      ],
      "source": [
        "x = np.ones(5) / 5\n",
        "i = 1\n",
        "while True:\n",
        "    x_new = P_hat.T @ x\n",
        "    display(Math(\"x_%s = [%s]^T\" % (i, \", \".join(map(str, x_new.round(4))))))\n",
        "    if (x_new - x < 0.001).all():\n",
        "        break\n",
        "    x = x_new\n",
        "    i += 1"
      ]
    },
    {
      "cell_type": "markdown",
      "metadata": {
        "id": "T300tE-SP9mk"
      },
      "source": [
        "As it can be seen, the most influential vertex is vertex $2$."
      ]
    },
    {
      "cell_type": "markdown",
      "metadata": {
        "id": "yQjy9FQtP9mk"
      },
      "source": [
        "## Answers:"
      ]
    },
    {
      "cell_type": "markdown",
      "metadata": {
        "id": "j-NB6PSbP9mk"
      },
      "source": [
        "## Task 7"
      ]
    },
    {
      "cell_type": "markdown",
      "metadata": {
        "id": "sLqmPhTKP9mk"
      },
      "source": [
        "Find the value $f(A)$ of the function $f(l) = e^{l+2}$, where \n",
        "$$A = \\begin{pmatrix} \n",
        "-26 & 11 & -6 \\\\ \n",
        "-106 & 44 & -23 \\\\ \n",
        "-52 & 21 & -10 \\end{pmatrix}$$"
      ]
    },
    {
      "cell_type": "code",
      "execution_count": 54,
      "metadata": {
        "id": "JCmkqNltP9ml"
      },
      "outputs": [],
      "source": [
        "A = sp.Matrix([[-26, 11, -6],\n",
        "               [-106, 44, -23],\n",
        "               [-52, 21, -10]])"
      ]
    },
    {
      "cell_type": "markdown",
      "metadata": {
        "id": "Oeq75vCoP9ml"
      },
      "source": [
        "We need to find the Jordan form of the matrix A. In order to that, we need to find eigenvalues and eigenvectors first."
      ]
    },
    {
      "cell_type": "markdown",
      "metadata": {
        "id": "3h5_Ss8XP9ml"
      },
      "source": [
        "Let us find the determinant of the following matrix:"
      ]
    },
    {
      "cell_type": "code",
      "execution_count": 55,
      "metadata": {
        "colab": {
          "base_uri": "https://localhost:8080/",
          "height": 78
        },
        "id": "Ez6yLl0DP9ml",
        "outputId": "a785cfe8-4629-4e13-e0e8-d0eecf0a24b6"
      },
      "outputs": [
        {
          "output_type": "execute_result",
          "data": {
            "text/latex": "$\\displaystyle \\left[\\begin{matrix}- \\lambda - 26 & 11 & -6\\\\-106 & 44 - \\lambda & -23\\\\-52 & 21 & - \\lambda - 10\\end{matrix}\\right]$",
            "text/plain": [
              "Matrix([\n",
              "[-lambda - 26,          11,           -6],\n",
              "[        -106, 44 - lambda,          -23],\n",
              "[         -52,          21, -lambda - 10]])"
            ]
          },
          "metadata": {},
          "execution_count": 55
        }
      ],
      "source": [
        "lambd = sp.symbols(\"lambda\")\n",
        "A - sp.eye(3) * lambd"
      ]
    },
    {
      "cell_type": "markdown",
      "metadata": {
        "id": "prVgLr4JP9ml"
      },
      "source": [
        "The determinant:"
      ]
    },
    {
      "cell_type": "code",
      "execution_count": 56,
      "metadata": {
        "colab": {
          "base_uri": "https://localhost:8080/",
          "height": 38
        },
        "id": "Wcqc3OyVP9ml",
        "outputId": "2f3c0daf-e428-44f5-e45a-c9b34e0a7af1"
      },
      "outputs": [
        {
          "output_type": "execute_result",
          "data": {
            "text/latex": "$\\displaystyle - \\lambda^{3} + 8 \\lambda^{2} - 13 \\lambda + 6$",
            "text/plain": [
              "-lambda**3 + 8*lambda**2 - 13*lambda + 6"
            ]
          },
          "metadata": {},
          "execution_count": 56
        }
      ],
      "source": [
        "sp.det(A - sp.eye(3) * lambd)"
      ]
    },
    {
      "cell_type": "markdown",
      "metadata": {
        "id": "VmYP_MjZP9ml"
      },
      "source": [
        "Let us solve the following equation in order to get eigenvalues:"
      ]
    },
    {
      "cell_type": "code",
      "execution_count": 57,
      "metadata": {
        "colab": {
          "base_uri": "https://localhost:8080/",
          "height": 38
        },
        "id": "Twf02j6yP9mm",
        "outputId": "e61f8c35-8fca-4080-8d5e-7ac24ef3c7a6"
      },
      "outputs": [
        {
          "output_type": "execute_result",
          "data": {
            "text/latex": "$\\displaystyle - \\lambda^{3} + 8 \\lambda^{2} - 13 \\lambda + 6 = 0$",
            "text/plain": [
              "Eq(-lambda**3 + 8*lambda**2 - 13*lambda + 6, 0)"
            ]
          },
          "metadata": {},
          "execution_count": 57
        }
      ],
      "source": [
        "sp.Eq(sp.det(A - sp.eye(3) * lambd), 0)"
      ]
    },
    {
      "cell_type": "code",
      "execution_count": 58,
      "metadata": {
        "colab": {
          "base_uri": "https://localhost:8080/",
          "height": 0
        },
        "id": "hJK6pitCP9mm",
        "outputId": "888fb018-2e38-4b29-bde4-7ab6b9a17ec9"
      },
      "outputs": [
        {
          "output_type": "execute_result",
          "data": {
            "text/plain": [
              "[1, 6]"
            ]
          },
          "metadata": {},
          "execution_count": 58
        }
      ],
      "source": [
        "eigenvalues = sp.solve(sp.det(A - sp.eye(3) * lambd))\n",
        "eigenvalues"
      ]
    },
    {
      "cell_type": "code",
      "execution_count": 59,
      "metadata": {
        "colab": {
          "base_uri": "https://localhost:8080/",
          "height": 0
        },
        "id": "FapyBWYAP9mm",
        "outputId": "da041259-1fd7-4f7b-8e6c-2ff32f24eeed"
      },
      "outputs": [
        {
          "output_type": "execute_result",
          "data": {
            "text/plain": [
              "(Matrix([\n",
              " [ -27, 11,  -6],\n",
              " [-106, 43, -23],\n",
              " [ -52, 21, -11]]), Matrix([\n",
              " [0],\n",
              " [0],\n",
              " [0]]))"
            ]
          },
          "metadata": {},
          "execution_count": 59
        }
      ],
      "source": [
        "x1, x2, x3 = sp.symbols('x1:4')\n",
        "b = sp.Matrix([0, 0, 0])\n",
        "\n",
        "(A - sp.eye(3) * eigenvalues[0], b)"
      ]
    },
    {
      "cell_type": "markdown",
      "metadata": {
        "id": "xXwEuJcfP9mm"
      },
      "source": [
        "First step, $\\lambda = 1$, $det(A - I) = 0$:"
      ]
    },
    {
      "cell_type": "code",
      "execution_count": 60,
      "metadata": {
        "colab": {
          "base_uri": "https://localhost:8080/",
          "height": 38
        },
        "id": "RdTrn_tuP9mm",
        "outputId": "02224b28-ec1f-47dd-a585-86a1f5858354"
      },
      "outputs": [
        {
          "output_type": "execute_result",
          "data": {
            "text/latex": "$\\displaystyle \\left\\{\\left( x_{3}, \\  3 x_{3}, \\  x_{3}\\right)\\right\\}$",
            "text/plain": [
              "FiniteSet((x3, 3*x3, x3))"
            ]
          },
          "metadata": {},
          "execution_count": 60
        }
      ],
      "source": [
        "eigenvector_1_1 = sp.linsolve((A - sp.eye(3) * eigenvalues[0], b), (x1, x2, x3))\n",
        "eigenvector_1_1"
      ]
    },
    {
      "cell_type": "markdown",
      "metadata": {
        "id": "j7m_tDrZP9mm"
      },
      "source": [
        "Let us choose $x_3 = \\frac{1}{5}$:"
      ]
    },
    {
      "cell_type": "code",
      "execution_count": 61,
      "metadata": {
        "colab": {
          "base_uri": "https://localhost:8080/",
          "height": 58
        },
        "id": "VO3wAqaEP9mm",
        "outputId": "e5f00816-97c6-47d2-a152-6dea12bc2fc8"
      },
      "outputs": [
        {
          "output_type": "execute_result",
          "data": {
            "text/latex": "$\\displaystyle \\left\\{\\left( \\frac{1}{5}, \\  \\frac{3}{5}, \\  \\frac{1}{5}\\right)\\right\\}$",
            "text/plain": [
              "FiniteSet((1/5, 3/5, 1/5))"
            ]
          },
          "metadata": {},
          "execution_count": 61
        }
      ],
      "source": [
        "eigenvector_1_1 = eigenvector_1_1.subs(x3, sp.S(1) / 5)\n",
        "eigenvector_1_1"
      ]
    },
    {
      "cell_type": "markdown",
      "metadata": {
        "id": "H5vL-IlkP9mm"
      },
      "source": [
        "Second step, $\\lambda = 1$, $det(A - I)^2 = 0$:"
      ]
    },
    {
      "cell_type": "code",
      "execution_count": 62,
      "metadata": {
        "colab": {
          "base_uri": "https://localhost:8080/",
          "height": 58
        },
        "id": "e0SAV3mtP9mn",
        "outputId": "b720cc9e-83c9-4b72-c6a9-cb459627c081"
      },
      "outputs": [
        {
          "output_type": "execute_result",
          "data": {
            "text/latex": "$\\displaystyle \\left\\{\\left( \\frac{2 x_{2}}{5} - \\frac{x_{3}}{5}, \\  x_{2}, \\  x_{3}\\right)\\right\\}$",
            "text/plain": [
              "FiniteSet((2*x2/5 - x3/5, x2, x3))"
            ]
          },
          "metadata": {},
          "execution_count": 62
        }
      ],
      "source": [
        "eigenvector_1_2 = sp.linsolve(((A - sp.eye(3) * eigenvalues[0])**2, b), (x1, x2, x3))\n",
        "eigenvector_1_2 "
      ]
    },
    {
      "cell_type": "markdown",
      "metadata": {
        "id": "35MVPLbdP9mn"
      },
      "source": [
        "Let us choose $x_2 = 1$ and $x_3 = 0$:"
      ]
    },
    {
      "cell_type": "code",
      "execution_count": 63,
      "metadata": {
        "colab": {
          "base_uri": "https://localhost:8080/",
          "height": 58
        },
        "id": "yyjoGnCLP9mn",
        "outputId": "315ff99d-5db0-4502-be5a-3571968f996a"
      },
      "outputs": [
        {
          "output_type": "execute_result",
          "data": {
            "text/latex": "$\\displaystyle \\left\\{\\left( \\frac{2}{5}, \\  1, \\  0\\right)\\right\\}$",
            "text/plain": [
              "FiniteSet((2/5, 1, 0))"
            ]
          },
          "metadata": {},
          "execution_count": 63
        }
      ],
      "source": [
        "eigenvector_1_2 = eigenvector_1_2.subs(x2, 1).subs(x3, 0)\n",
        "eigenvector_1_2"
      ]
    },
    {
      "cell_type": "markdown",
      "metadata": {
        "id": "28o09_2hP9mn"
      },
      "source": [
        "Third step, $\\lambda = 6$, $det(A - 6I) = 0$:"
      ]
    },
    {
      "cell_type": "code",
      "execution_count": 64,
      "metadata": {
        "colab": {
          "base_uri": "https://localhost:8080/",
          "height": 48
        },
        "id": "Jy4WYURYP9mn",
        "outputId": "d030aafe-ee77-403a-9d72-6f4a054bc5c5"
      },
      "outputs": [
        {
          "output_type": "execute_result",
          "data": {
            "text/latex": "$\\displaystyle \\left\\{\\left( \\frac{x_{3}}{2}, \\  2 x_{3}, \\  x_{3}\\right)\\right\\}$",
            "text/plain": [
              "FiniteSet((x3/2, 2*x3, x3))"
            ]
          },
          "metadata": {},
          "execution_count": 64
        }
      ],
      "source": [
        "eigenvector_2_1 = sp.linsolve((A - sp.eye(3) * eigenvalues[1], b), (x1, x2, x3))\n",
        "eigenvector_2_1 "
      ]
    },
    {
      "cell_type": "markdown",
      "metadata": {
        "id": "_rHwg8bxP9mn"
      },
      "source": [
        "Let us choose $x_3 = 1$:"
      ]
    },
    {
      "cell_type": "code",
      "execution_count": 65,
      "metadata": {
        "colab": {
          "base_uri": "https://localhost:8080/",
          "height": 58
        },
        "id": "5sAlOeuXP9mn",
        "outputId": "494336c0-3064-4941-8062-119019bfc27b"
      },
      "outputs": [
        {
          "output_type": "execute_result",
          "data": {
            "text/latex": "$\\displaystyle \\left\\{\\left( \\frac{1}{2}, \\  2, \\  1\\right)\\right\\}$",
            "text/plain": [
              "FiniteSet((1/2, 2, 1))"
            ]
          },
          "metadata": {},
          "execution_count": 65
        }
      ],
      "source": [
        "eigenvector_2_1 = eigenvector_2_1.subs(x3, 1)\n",
        "eigenvector_2_1 "
      ]
    },
    {
      "cell_type": "markdown",
      "metadata": {
        "id": "R2t9RDRFP9mn"
      },
      "source": [
        "Finally, let us build the matrix T:"
      ]
    },
    {
      "cell_type": "code",
      "execution_count": 66,
      "metadata": {
        "colab": {
          "base_uri": "https://localhost:8080/",
          "height": 78
        },
        "id": "D1W4Z_g5P9mo",
        "outputId": "4e52b543-3ad4-4c76-ad53-47f02cbfc273"
      },
      "outputs": [
        {
          "output_type": "execute_result",
          "data": {
            "text/latex": "$\\displaystyle \\left[\\begin{matrix}\\frac{1}{5} & \\frac{2}{5} & \\frac{1}{2}\\\\\\frac{3}{5} & 1 & 2\\\\\\frac{1}{5} & 0 & 1\\end{matrix}\\right]$",
            "text/plain": [
              "Matrix([\n",
              "[1/5, 2/5, 1/2],\n",
              "[3/5,   1,   2],\n",
              "[1/5,   0,   1]])"
            ]
          },
          "metadata": {},
          "execution_count": 66
        }
      ],
      "source": [
        "T = sp.Matrix([list(eigenvector_1_1)[0], list(eigenvector_1_2)[0], list(eigenvector_2_1)[0]]).T\n",
        "T"
      ]
    },
    {
      "cell_type": "markdown",
      "metadata": {
        "id": "fdnhZiCfP9mo"
      },
      "source": [
        "And the matrix T:"
      ]
    },
    {
      "cell_type": "code",
      "execution_count": 67,
      "metadata": {
        "colab": {
          "base_uri": "https://localhost:8080/",
          "height": 78
        },
        "id": "ImYoL_imP9mo",
        "outputId": "06e23c7a-fc04-42d6-84b5-5e2b902b063b"
      },
      "outputs": [
        {
          "output_type": "execute_result",
          "data": {
            "text/latex": "$\\displaystyle \\left[\\begin{matrix}1 & 1 & 0\\\\0 & 1 & 0\\\\0 & 0 & 6\\end{matrix}\\right]$",
            "text/plain": [
              "Matrix([\n",
              "[1, 1, 0],\n",
              "[0, 1, 0],\n",
              "[0, 0, 6]])"
            ]
          },
          "metadata": {},
          "execution_count": 67
        }
      ],
      "source": [
        "J = sp.Matrix([[1, 1, 0],\n",
        "               [0, 1, 0],\n",
        "               [0, 0, 6]])\n",
        "J"
      ]
    },
    {
      "cell_type": "markdown",
      "metadata": {
        "id": "d4JIeo6gP9mo"
      },
      "source": [
        "Let us check that the Jordan form is correct:"
      ]
    },
    {
      "cell_type": "code",
      "execution_count": 68,
      "metadata": {
        "colab": {
          "base_uri": "https://localhost:8080/",
          "height": 78
        },
        "id": "E6ZrIreTP9mo",
        "outputId": "684e6cb5-21f8-43e3-a13d-1f92273e26a2"
      },
      "outputs": [
        {
          "output_type": "execute_result",
          "data": {
            "text/latex": "$\\displaystyle \\left[\\begin{matrix}-26 & 11 & -6\\\\-106 & 44 & -23\\\\-52 & 21 & -10\\end{matrix}\\right]$",
            "text/plain": [
              "Matrix([\n",
              "[ -26, 11,  -6],\n",
              "[-106, 44, -23],\n",
              "[ -52, 21, -10]])"
            ]
          },
          "metadata": {},
          "execution_count": 68
        }
      ],
      "source": [
        "T*J*T**-1"
      ]
    },
    {
      "cell_type": "code",
      "execution_count": 69,
      "metadata": {
        "colab": {
          "base_uri": "https://localhost:8080/",
          "height": 0
        },
        "id": "LyFAwNIVP9mo",
        "outputId": "d7196ce5-b905-469a-9e39-d1f6fbce8f19"
      },
      "outputs": [
        {
          "output_type": "execute_result",
          "data": {
            "text/plain": [
              "True"
            ]
          },
          "metadata": {},
          "execution_count": 69
        }
      ],
      "source": [
        "T*J*T**-1 == A"
      ]
    },
    {
      "cell_type": "markdown",
      "metadata": {
        "id": "SA5meXI3P9mo"
      },
      "source": [
        "In order to find $f(A) = Tf(J)T^{-1}$ we need to find $f(J)$ first:"
      ]
    },
    {
      "cell_type": "markdown",
      "metadata": {
        "id": "6I9WhwDwP9mp"
      },
      "source": [
        "$f(J) = \\left[\\begin{matrix}f(1) & f'(1) & 0\\\\0 & f(1) & 0\\\\0 & 0 & f(6)\\end{matrix}\\right] = \n",
        "\\left[\\begin{matrix}e^3 & e^3 & 0\\\\0 & e^3 & 0\\\\0 & 0 & e^8\\end{matrix}\\right] $"
      ]
    },
    {
      "cell_type": "markdown",
      "metadata": {
        "id": "7VT-X_MpP9mp"
      },
      "source": [
        "Now we can find $f(A)$:"
      ]
    },
    {
      "cell_type": "code",
      "execution_count": 70,
      "metadata": {
        "colab": {
          "base_uri": "https://localhost:8080/",
          "height": 78
        },
        "id": "Iwd36pMbP9mp",
        "outputId": "f94df643-ccbc-4037-d24a-9f4881f082ad"
      },
      "outputs": [
        {
          "output_type": "execute_result",
          "data": {
            "text/latex": "$\\displaystyle \\left[\\begin{matrix}- 5 e^{8} + 4 e^{3} & - e^{3} + 2 e^{8} & - e^{8}\\\\- 20 e^{8} + 14 e^{3} & - 4 e^{3} + 8 e^{8} & - 4 e^{8} + e^{3}\\\\- 10 e^{8} + 8 e^{3} & - 3 e^{3} + 4 e^{8} & - 2 e^{8} + 2 e^{3}\\end{matrix}\\right]$",
            "text/plain": [
              "Matrix([\n",
              "[  -5*exp(8) + 4*exp(3),   -exp(3) + 2*exp(8),              -exp(8)],\n",
              "[-20*exp(8) + 14*exp(3), -4*exp(3) + 8*exp(8),   -4*exp(8) + exp(3)],\n",
              "[ -10*exp(8) + 8*exp(3), -3*exp(3) + 4*exp(8), -2*exp(8) + 2*exp(3)]])"
            ]
          },
          "metadata": {},
          "execution_count": 70
        }
      ],
      "source": [
        "fJ = sp.Matrix([[sp.E**3, sp.E**3, 0],\n",
        "               [0, sp.E**3, 0],\n",
        "               [0, 0, sp.E**8]])\n",
        "\n",
        "T*fJ*T**-1"
      ]
    },
    {
      "cell_type": "markdown",
      "metadata": {
        "id": "jcWDHNnlP9mp"
      },
      "source": [
        "$f(A) = \\left[\\begin{matrix}\\frac{1}{5} & \\frac{2}{5} & \\frac{1}{2}\\\\\\frac{3}{5} & 1 & 2\\\\\\frac{1}{5} & 0 & 1\\end{matrix}\\right]\\left[\\begin{matrix}e^3 & e^3 & 0\\\\0 & e^3 & 0\\\\0 & 0 & e^8\\end{matrix}\\right]\\left[\\begin{matrix}50 & -20 & 15\\\\-10 & 5 & -5\\\\-10 & 4 & -2\\end{matrix}\\right] = \\left[\\begin{matrix}-14824.4477875159 & 5941.83043716027 & -2980.95798704173\\\\-59337.9622239099 & 23767.3217486411 & -11903.7464112437\\\\-29648.8955750318 & 11863.5753373973 & -5921.74490023708\\end{matrix}\\right]\n",
        "$"
      ]
    },
    {
      "cell_type": "markdown",
      "metadata": {
        "id": "F7jEWP2CP9mp"
      },
      "source": [
        "## Answers:"
      ]
    },
    {
      "cell_type": "markdown",
      "metadata": {
        "id": "MP8qcdcwP9mp"
      },
      "source": [
        "$f(A) = \\left[\\begin{matrix}-14824.4477875159 & 5941.83043716027 & -2980.95798704173\\\\-59337.9622239099 & 23767.3217486411 & -11903.7464112437\\\\-29648.8955750318 & 11863.5753373973 & -5921.74490023708\\end{matrix}\\right]$"
      ]
    }
  ],
  "metadata": {
    "kernelspec": {
      "display_name": "Python 3",
      "language": "python",
      "name": "python3"
    },
    "language_info": {
      "codemirror_mode": {
        "name": "ipython",
        "version": 3
      },
      "file_extension": ".py",
      "mimetype": "text/x-python",
      "name": "python",
      "nbconvert_exporter": "python",
      "pygments_lexer": "ipython3",
      "version": "3.8.3"
    },
    "colab": {
      "name": "hw2_petrov.ipynb",
      "provenance": [],
      "include_colab_link": true
    }
  },
  "nbformat": 4,
  "nbformat_minor": 0
}